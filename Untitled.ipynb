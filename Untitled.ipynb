{
 "cells": [
  {
   "cell_type": "code",
   "execution_count": null,
   "id": "25fd1f2e",
   "metadata": {},
   "outputs": [],
   "source": [
    "//Question 1\n",
    "5 = Integer \n",
    "5.0 = float/floating point\n",
    "5 > 1 = Boolean\n",
    "'5' = string\n",
    " 5 * 2 = integer\n",
    "'5' * 2 = string \n",
    "'5' + '2' = string\n",
    "5 / 2 = float/floating point\n",
    "5 % 2 = integer\n",
    "{5, 2, 1} = tuples\n",
    "5 == 3 = Boolean\n",
    "Pi (3.14159265359) = float/floating point"
   ]
  },
  {
   "cell_type": "code",
   "execution_count": null,
   "id": "a6769ca4",
   "metadata": {},
   "outputs": [],
   "source": [
    "//Question 2.a\n",
    "static void Main(string[] args)\n",
    "        {\n",
    "            String a = \"Supercalifragilisticexpialidocious\";\n",
    "            a. Console.WriteLine(a.Length);\n",
    "        }\n",
    "\n",
    "//Question 2.b\n",
    "\n",
    "string s1 = \"Supercalifragilisticexpialidocious\";\n",
    "string s2 = \"ice\";\n",
    "bool b = s1.Contains(s2);\n",
    "Console.WriteLine(\"'{0}' is in the string '{1}': {2}\",\n",
    "                s2, s1, b);\n",
    "if (b)\n",
    "{\n",
    "    int index = s1.IndexOf(s2);\n",
    "    if (index >= 0)\n",
    "        Console.WriteLine(\"'{0} The position at: {1}\",\n",
    "                      s2, index + 1);\n",
    "}\n",
    "    "
   ]
  },
  {
   "cell_type": "code",
   "execution_count": null,
   "id": "b2c60b40",
   "metadata": {},
   "outputs": [],
   "source": [
    "//Question 3.\n",
    "\n",
    "using System;\n",
    "using System.Collections.Generic;\n",
    "using System.Linq;\n",
    "using System.Text;\n",
    "using System.Threading.Tasks;\n",
    "\n",
    "namespace ConsoleApp2\n",
    "{\n",
    "    class Program\n",
    "   {\n",
    "       \n",
    "   static double TriangleArea(double a, double b, double c)\n",
    "        \n",
    "        {    double area;\n",
    "            double s;\n",
    "            s = (a + b + c)/2;\n",
    "            return area =Math.Sqrt(s*(s-a)*(s-b)*(s-c));\n",
    "        }\n",
    "static void Main(string[] args)\n",
    "{\n",
    "double a, b, c;\n",
    "            Console.WriteLine(\"enter a:\");\n",
    "            a= Convert.ToDouble(Console.ReadLine());\n",
    "            Console.WriteLine(\"enter b:\");\n",
    "            b= Convert.ToDouble(Console.ReadLine());\n",
    "            Console.WriteLine(\"enter c:\");\n",
    "            c= Convert.ToDouble(Console.ReadLine());\n",
    "            Console.WriteLine(\"Area of a Triangle {0}\",TriangleArea(a,b,c));\n",
    "}\n",
    "   }\n",
    "}\n",
    "\n"
   ]
  },
  {
   "cell_type": "code",
   "execution_count": null,
   "id": "bfc8c9a5",
   "metadata": {},
   "outputs": [],
   "source": [
    "//Question 4.\n",
    "\n",
    "    static void Main(string[] args)\n",
    "        {    \n",
    "            int[] array1 = new int[5];\n",
    "            int[] array2 = new int[5];\n",
    "            int[] array3 = new int[5];\n",
    "            int j = 0, k = 0;\n",
    "            Console.WriteLine(\"Input the number of elements to be stored in the array:\");\n",
    "      \n",
    "            for(int i=0;i<5;i++)\n",
    "            {\n",
    "              Console.WriteLine(\"Element-{0}\",i);\n",
    "                array1[i] = Convert.ToInt32(Console.ReadLine()); []\n",
    "             }\n",
    "         \n",
    "            for(int i=0;i<array1.Length;i++)\n",
    "            {\n",
    "                if ((array1[i]%2)==0)\n",
    "                {\n",
    "                    array2[j] = array1[i];\n",
    "                    j++;\n",
    "                }\n",
    "                else\n",
    "                {\n",
    "                    array3[k]=array1[i];\n",
    "                    k++;\n",
    "                }\n",
    "            }\n",
    "            Console.WriteLine(\"The Even elements are:\");\n",
    "             for(int i=0;i<j;i++)\n",
    "            {\n",
    "                Console.WriteLine(\"{0}\", array2[i]);\n",
    "            }\n",
    "            Console.WriteLine(\"The Odd elements are:\");\n",
    "            for(int i=0; i<k;i++)\n",
    "            {\n",
    "                Console.WriteLine(\"{0}\", array3[i]);\n",
    "            }\n",
    "\n",
    "            Console.ReadLine(); \n",
    "\n",
    "            \n",
    "        }\n",
    "    \n"
   ]
  },
  {
   "cell_type": "code",
   "execution_count": null,
   "id": "8eeb7d5d",
   "metadata": {},
   "outputs": [],
   "source": [
    "//Question 5.a.\n",
    "\n",
    "using System;\n",
    " \n",
    "class GFG\n",
    "{\n",
    " \n",
    "static bool FindPoint(int x1, int y1, int x2,\n",
    "                      int y2, int x, int y)\n",
    "{\n",
    "if (x > x1 && x < x2 &&\n",
    "    y > y1 && y < y2)\n",
    "    return true;\n",
    " \n",
    "return false;\n",
    "}\n",
    "    \n",
    "public static void Main()\n",
    "{\n",
    "     \n",
    "    \n",
    "    int x1 = 0, y1 = 0,\n",
    "        x2 = 10, y2 = 8;\n",
    " \n",
    "   \n",
    "    int x = 1, y = 5;\n",
    " \n",
    "    \n",
    "    if (FindPoint(x1, y1, x2, y2, x, y))\n",
    "        Console.Write(\"Yes\");\n",
    "    else\n",
    "        Console.Write(\"No\");\n",
    "}\n",
    "}"
   ]
  },
  {
   "cell_type": "code",
   "execution_count": 7,
   "id": "1457843d",
   "metadata": {},
   "outputs": [
    {
     "name": "stdout",
     "output_type": "stream",
     "text": [
      "Enter string: happy\n",
      "appyhay\n"
     ]
    }
   ],
   "source": [
    " //Question 6\n",
    "string = input(\"Enter string: \")\n",
    "def pig(string):\n",
    "    string = str.lower(string);\n",
    "    vowel = \"aeiou\"\n",
    "    \n",
    "    if (string[0] in vowel):\n",
    "        string = string + \"way\"\n",
    "        \n",
    "    else:\n",
    "        dummy = string[0]\n",
    "        string = string[1:]\n",
    "        string = string + dummy + \"ay\"\n",
    "        print(string)\n",
    "pig(string)"
   ]
  },
  {
   "cell_type": "code",
   "execution_count": 8,
   "id": "00e6e6be",
   "metadata": {},
   "outputs": [
    {
     "ename": "FileNotFoundError",
     "evalue": "[Errno 2] No such file or directory: 'blood.txt'",
     "output_type": "error",
     "traceback": [
      "\u001b[1;31m---------------------------------------------------------------------------\u001b[0m",
      "\u001b[1;31mFileNotFoundError\u001b[0m                         Traceback (most recent call last)",
      "Input \u001b[1;32mIn [8]\u001b[0m, in \u001b[0;36m<cell line: 1>\u001b[1;34m()\u001b[0m\n\u001b[1;32m----> 1\u001b[0m file \u001b[38;5;241m=\u001b[39m \u001b[38;5;28;43mopen\u001b[39;49m\u001b[43m(\u001b[49m\u001b[38;5;124;43m\"\u001b[39;49m\u001b[38;5;124;43mblood.txt\u001b[39;49m\u001b[38;5;124;43m\"\u001b[39;49m\u001b[43m,\u001b[49m\u001b[43m \u001b[49m\u001b[38;5;124;43m\"\u001b[39;49m\u001b[38;5;124;43mr\u001b[39;49m\u001b[38;5;124;43m\"\u001b[39;49m\u001b[43m)\u001b[49m\n\u001b[0;32m      2\u001b[0m \u001b[38;5;28mlist\u001b[39m \u001b[38;5;241m=\u001b[39m file\u001b[38;5;241m.\u001b[39mreadlines() \n\u001b[0;32m      3\u001b[0m \u001b[38;5;28;01mfor\u001b[39;00m i \u001b[38;5;129;01min\u001b[39;00m \u001b[38;5;28mlist\u001b[39m:\n",
      "\u001b[1;31mFileNotFoundError\u001b[0m: [Errno 2] No such file or directory: 'blood.txt'"
     ]
    }
   ],
   "source": [
    "//Question 7\n",
    "\n",
    "file = open(\"blood.txt\", \"r\")\n",
    "list = file.readlines() \n",
    "for i in list:\n",
    "    content = i.split() \n",
    "\n",
    "bloodA = content.count('A')\n",
    "bloodB = content.count('B')\n",
    "bloodAB = content.count('AB')\n",
    "bloodO = content.count('O')\n",
    "bloodOO = content.count('OO')\n",
    "print(\"There are\" ,bloodA, \"patients with blood group A\")\n",
    "print(\"There are\" ,bloodB, \"patients with blood group B\")\n",
    "print(\"There are\" ,bloodAB, \"patients with blood group AB\")\n",
    "print(\"There are\" ,bloodO, \"patients with blood group O\")\n",
    "print(\"There are\" ,bloodOO, \"patients with blood group OO\")\n",
    "\n"
   ]
  },
  {
   "cell_type": "code",
   "execution_count": 10,
   "id": "fc1a5400",
   "metadata": {},
   "outputs": [
    {
     "ename": "TypeError",
     "evalue": "unsupported operand type(s) for +: 'int' and 'str'",
     "output_type": "error",
     "traceback": [
      "\u001b[1;31m---------------------------------------------------------------------------\u001b[0m",
      "\u001b[1;31mTypeError\u001b[0m                                 Traceback (most recent call last)",
      "Input \u001b[1;32mIn [10]\u001b[0m, in \u001b[0;36m<cell line: 1>\u001b[1;34m()\u001b[0m\n\u001b[1;32m----> 1\u001b[0m \u001b[38;5;28mprint\u001b[39m(\u001b[38;5;241;43m6\u001b[39;49m\u001b[43m \u001b[49m\u001b[38;5;241;43m+\u001b[39;49m\u001b[43m \u001b[49m\u001b[38;5;124;43m'\u001b[39;49m\u001b[38;5;124;43ma\u001b[39;49m\u001b[38;5;124;43m'\u001b[39;49m)\n",
      "\u001b[1;31mTypeError\u001b[0m: unsupported operand type(s) for +: 'int' and 'str'"
     ]
    }
   ],
   "source": [
    "//Question 9.a\n",
    "print(6 + 'a')"
   ]
  },
  {
   "cell_type": "code",
   "execution_count": 11,
   "id": "776912cf",
   "metadata": {},
   "outputs": [
    {
     "ename": "IndexError",
     "evalue": "list index out of range",
     "output_type": "error",
     "traceback": [
      "\u001b[1;31m---------------------------------------------------------------------------\u001b[0m",
      "\u001b[1;31mIndexError\u001b[0m                                Traceback (most recent call last)",
      "Input \u001b[1;32mIn [11]\u001b[0m, in \u001b[0;36m<cell line: 2>\u001b[1;34m()\u001b[0m\n\u001b[0;32m      1\u001b[0m my_list \u001b[38;5;241m=\u001b[39m [\u001b[38;5;241m1\u001b[39m, \u001b[38;5;241m2\u001b[39m, \u001b[38;5;241m3\u001b[39m, \u001b[38;5;241m4\u001b[39m, \u001b[38;5;241m5\u001b[39m, \u001b[38;5;241m6\u001b[39m, \u001b[38;5;241m7\u001b[39m, \u001b[38;5;241m8\u001b[39m, \u001b[38;5;241m9\u001b[39m]\n\u001b[1;32m----> 2\u001b[0m \u001b[38;5;28mprint\u001b[39m(\u001b[43mmy_list\u001b[49m\u001b[43m[\u001b[49m\u001b[38;5;241;43m12\u001b[39;49m\u001b[43m]\u001b[49m)\n",
      "\u001b[1;31mIndexError\u001b[0m: list index out of range"
     ]
    }
   ],
   "source": [
    "//Question 9.b\n",
    "my_list = [1, 2, 3, 4, 5, 6, 7, 8, 9]\n",
    "print(my_list[12])"
   ]
  },
  {
   "cell_type": "code",
   "execution_count": 12,
   "id": "42dbae55",
   "metadata": {},
   "outputs": [
    {
     "ename": "ValueError",
     "evalue": "math domain error",
     "output_type": "error",
     "traceback": [
      "\u001b[1;31m---------------------------------------------------------------------------\u001b[0m",
      "\u001b[1;31mValueError\u001b[0m                                Traceback (most recent call last)",
      "Input \u001b[1;32mIn [12]\u001b[0m, in \u001b[0;36m<cell line: 2>\u001b[1;34m()\u001b[0m\n\u001b[0;32m      1\u001b[0m \u001b[38;5;28;01mimport\u001b[39;00m \u001b[38;5;21;01mmath\u001b[39;00m\n\u001b[1;32m----> 2\u001b[0m \u001b[38;5;28mprint\u001b[39m(\u001b[43mmath\u001b[49m\u001b[38;5;241;43m.\u001b[39;49m\u001b[43msqrt\u001b[49m\u001b[43m(\u001b[49m\u001b[38;5;241;43m-\u001b[39;49m\u001b[38;5;241;43m1.0\u001b[39;49m\u001b[43m)\u001b[49m)\n",
      "\u001b[1;31mValueError\u001b[0m: math domain error"
     ]
    }
   ],
   "source": [
    "//Question 9.c\n",
    "import math\n",
    "print(math.sqrt(-1.0))"
   ]
  },
  {
   "cell_type": "code",
   "execution_count": 13,
   "id": "506526bb",
   "metadata": {},
   "outputs": [
    {
     "ename": "NameError",
     "evalue": "name 'x' is not defined",
     "output_type": "error",
     "traceback": [
      "\u001b[1;31m---------------------------------------------------------------------------\u001b[0m",
      "\u001b[1;31mNameError\u001b[0m                                 Traceback (most recent call last)",
      "Input \u001b[1;32mIn [13]\u001b[0m, in \u001b[0;36m<cell line: 1>\u001b[1;34m()\u001b[0m\n\u001b[1;32m----> 1\u001b[0m \u001b[38;5;28mprint\u001b[39m(\u001b[43mx\u001b[49m)\n",
      "\u001b[1;31mNameError\u001b[0m: name 'x' is not defined"
     ]
    }
   ],
   "source": [
    "//Question 9.d\n",
    "print(x)"
   ]
  },
  {
   "cell_type": "code",
   "execution_count": 14,
   "id": "f8c3942b",
   "metadata": {},
   "outputs": [
    {
     "ename": "FileNotFoundError",
     "evalue": "[Errno 2] No such file or directory: 'test.txt'",
     "output_type": "error",
     "traceback": [
      "\u001b[1;31m---------------------------------------------------------------------------\u001b[0m",
      "\u001b[1;31mFileNotFoundError\u001b[0m                         Traceback (most recent call last)",
      "Input \u001b[1;32mIn [14]\u001b[0m, in \u001b[0;36m<cell line: 1>\u001b[1;34m()\u001b[0m\n\u001b[1;32m----> 1\u001b[0m f \u001b[38;5;241m=\u001b[39m \u001b[38;5;28;43mopen\u001b[39;49m\u001b[43m(\u001b[49m\u001b[38;5;124;43m\"\u001b[39;49m\u001b[38;5;124;43mtest.txt\u001b[39;49m\u001b[38;5;124;43m\"\u001b[39;49m\u001b[43m)\u001b[49m\n",
      "\u001b[1;31mFileNotFoundError\u001b[0m: [Errno 2] No such file or directory: 'test.txt'"
     ]
    }
   ],
   "source": [
    "//Question 9.e\n",
    "f = open(\"test.txt\")"
   ]
  },
  {
   "cell_type": "code",
   "execution_count": 9,
   "id": "eea5f624",
   "metadata": {},
   "outputs": [
    {
     "name": "stdout",
     "output_type": "stream",
     "text": [
      "number of characters :\n",
      " {'a': 1, 'p': 2, 'l': 1, 'e': 1}\n"
     ]
    }
   ],
   "source": [
    "//Question 10\n",
    "def frequencies(string):\n",
    "  all_freq = {}\n",
    "  for i in string:\n",
    "    if i in all_freq:\n",
    "        all_freq[i] += 1\n",
    "    else:\n",
    "        all_freq[i] = 1\n",
    "  \n",
    "  # printing result \n",
    "  print (\"number of characters :\\n \"\n",
    "                                        +  str(all_freq))\n",
    "\n",
    "\n",
    "frequencies(\"apple\")"
   ]
  }
 ],
 "metadata": {
  "kernelspec": {
   "display_name": "Python 3 (ipykernel)",
   "language": "python",
   "name": "python3"
  },
  "language_info": {
   "codemirror_mode": {
    "name": "ipython",
    "version": 3
   },
   "file_extension": ".py",
   "mimetype": "text/x-python",
   "name": "python",
   "nbconvert_exporter": "python",
   "pygments_lexer": "ipython3",
   "version": "3.9.12"
  }
 },
 "nbformat": 4,
 "nbformat_minor": 5
}
